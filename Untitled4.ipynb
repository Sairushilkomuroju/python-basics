{
 "cells": [
  {
   "cell_type": "code",
   "execution_count": 1,
   "id": "892b5651",
   "metadata": {},
   "outputs": [],
   "source": [
    "s=\"saikumar\", \"Devisree\",\"Pankaj\", \"suresh\", \"Ramesh\""
   ]
  },
  {
   "cell_type": "code",
   "execution_count": 2,
   "id": "ba37a8d4",
   "metadata": {},
   "outputs": [
    {
     "data": {
      "text/plain": [
       "'Devisree'"
      ]
     },
     "execution_count": 2,
     "metadata": {},
     "output_type": "execute_result"
    }
   ],
   "source": [
    "s[1]"
   ]
  },
  {
   "cell_type": "code",
   "execution_count": null,
   "id": "299472c7",
   "metadata": {},
   "outputs": [],
   "source": []
  },
  {
   "cell_type": "code",
   "execution_count": 3,
   "id": "fa222f09",
   "metadata": {},
   "outputs": [],
   "source": [
    "set={1,2,3,4,5,6,7,8,9,0}"
   ]
  },
  {
   "cell_type": "code",
   "execution_count": 6,
   "id": "a3c80e65",
   "metadata": {},
   "outputs": [
    {
     "data": {
      "text/plain": [
       "{0, 1, 2, 3, 4, 5, 6, 7, 8, 9}"
      ]
     },
     "execution_count": 6,
     "metadata": {},
     "output_type": "execute_result"
    }
   ],
   "source": [
    "set"
   ]
  },
  {
   "cell_type": "markdown",
   "id": "152c98e1",
   "metadata": {},
   "source": [
    "# $ dict$"
   ]
  },
  {
   "cell_type": "code",
   "execution_count": 7,
   "id": "36ea55eb",
   "metadata": {},
   "outputs": [],
   "source": [
    "dic={\"key\":\"value\",\"key1\":\"value2\",\"key\":\"value2\"}"
   ]
  },
  {
   "cell_type": "code",
   "execution_count": 10,
   "id": "a66b2d13",
   "metadata": {},
   "outputs": [],
   "source": [
    "sairushil={\"name\":\"Sai Rushil\",\"email_id\":\"snsairushil@gmail.com\",\"college\":\"KMICS\"}"
   ]
  },
  {
   "cell_type": "code",
   "execution_count": 11,
   "id": "fd4ce869",
   "metadata": {},
   "outputs": [
    {
     "data": {
      "text/plain": [
       "{'name': 'Sai Rushil', 'email_id': 'snsairushil@gmail.com', 'college': 'KMICS'}"
      ]
     },
     "execution_count": 11,
     "metadata": {},
     "output_type": "execute_result"
    }
   ],
   "source": [
    "sairushil"
   ]
  },
  {
   "cell_type": "code",
   "execution_count": 16,
   "id": "ae251bc0",
   "metadata": {},
   "outputs": [],
   "source": [
    "sairushil={\"name\":\"Sai Rushil\",\"email_id\":\"snsairushil@gmail.com\",\"college\":\"KMICS\",\"salary\":10000000}"
   ]
  },
  {
   "cell_type": "code",
   "execution_count": 13,
   "id": "ac5d74fc",
   "metadata": {},
   "outputs": [
    {
     "data": {
      "text/plain": [
       "{'name': 'Sai Rushil', 'email_id': 'snsairushil@gmail.com', 'college': 'KMICS'}"
      ]
     },
     "execution_count": 13,
     "metadata": {},
     "output_type": "execute_result"
    }
   ],
   "source": [
    "sairushil"
   ]
  },
  {
   "cell_type": "code",
   "execution_count": 15,
   "id": "4a359265",
   "metadata": {},
   "outputs": [
    {
     "data": {
      "text/plain": [
       "{'name': 'Sai Rushil', 'email_id': 'snsairushil@gmail.com', 'college': 'KMICS'}"
      ]
     },
     "execution_count": 15,
     "metadata": {},
     "output_type": "execute_result"
    }
   ],
   "source": [
    "sairushil"
   ]
  },
  {
   "cell_type": "code",
   "execution_count": 17,
   "id": "6ea9d8f3",
   "metadata": {},
   "outputs": [
    {
     "data": {
      "text/plain": [
       "{'name': 'Sai Rushil',\n",
       " 'email_id': 'snsairushil@gmail.com',\n",
       " 'college': 'KMICS',\n",
       " 'salary': 10000000}"
      ]
     },
     "execution_count": 17,
     "metadata": {},
     "output_type": "execute_result"
    }
   ],
   "source": [
    "sairushil"
   ]
  },
  {
   "cell_type": "code",
   "execution_count": 18,
   "id": "6225c367",
   "metadata": {},
   "outputs": [
    {
     "data": {
      "text/plain": [
       "dict"
      ]
     },
     "execution_count": 18,
     "metadata": {},
     "output_type": "execute_result"
    }
   ],
   "source": [
    "type(sairushil)"
   ]
  },
  {
   "cell_type": "code",
   "execution_count": 19,
   "id": "33f38d52",
   "metadata": {},
   "outputs": [
    {
     "data": {
      "text/plain": [
       "dict"
      ]
     },
     "execution_count": 19,
     "metadata": {},
     "output_type": "execute_result"
    }
   ],
   "source": [
    "type(sairushil)"
   ]
  },
  {
   "cell_type": "code",
   "execution_count": 20,
   "id": "63d54ec6",
   "metadata": {},
   "outputs": [],
   "source": [
    "sairushil[0]=\"Pankaj\""
   ]
  },
  {
   "cell_type": "code",
   "execution_count": 21,
   "id": "c351a74f",
   "metadata": {},
   "outputs": [
    {
     "data": {
      "text/plain": [
       "{'name': 'Sai Rushil',\n",
       " 'email_id': 'snsairushil@gmail.com',\n",
       " 'college': 'KMICS',\n",
       " 'salary': 10000000,\n",
       " 0: 'Pankaj'}"
      ]
     },
     "execution_count": 21,
     "metadata": {},
     "output_type": "execute_result"
    }
   ],
   "source": [
    "sairushil"
   ]
  },
  {
   "cell_type": "code",
   "execution_count": 22,
   "id": "fd8efdb6",
   "metadata": {},
   "outputs": [],
   "source": [
    "sairushil[1]=\"Devisree\""
   ]
  },
  {
   "cell_type": "code",
   "execution_count": 23,
   "id": "9b82f4f7",
   "metadata": {},
   "outputs": [
    {
     "data": {
      "text/plain": [
       "{'name': 'Sai Rushil',\n",
       " 'email_id': 'snsairushil@gmail.com',\n",
       " 'college': 'KMICS',\n",
       " 'salary': 10000000,\n",
       " 0: 'Pankaj',\n",
       " 1: 'Devisree'}"
      ]
     },
     "execution_count": 23,
     "metadata": {},
     "output_type": "execute_result"
    }
   ],
   "source": [
    "sairushil"
   ]
  },
  {
   "cell_type": "code",
   "execution_count": 24,
   "id": "b539b559",
   "metadata": {},
   "outputs": [],
   "source": [
    "sairushil[\"area\"]=\"New Nallakunta\""
   ]
  },
  {
   "cell_type": "code",
   "execution_count": 25,
   "id": "0454c76b",
   "metadata": {},
   "outputs": [
    {
     "data": {
      "text/plain": [
       "{'name': 'Sai Rushil',\n",
       " 'email_id': 'snsairushil@gmail.com',\n",
       " 'college': 'KMICS',\n",
       " 'salary': 10000000,\n",
       " 0: 'Pankaj',\n",
       " 1: 'Devisree',\n",
       " 'area': 'New Nallakunta'}"
      ]
     },
     "execution_count": 25,
     "metadata": {},
     "output_type": "execute_result"
    }
   ],
   "source": [
    "sairushil"
   ]
  },
  {
   "cell_type": "code",
   "execution_count": 30,
   "id": "2ed03fdb",
   "metadata": {},
   "outputs": [],
   "source": [
    "t=(\"Sai Rushil\", \"rook\",\"chess\")"
   ]
  },
  {
   "cell_type": "code",
   "execution_count": 31,
   "id": "5089e1d4",
   "metadata": {},
   "outputs": [
    {
     "data": {
      "text/plain": [
       "('Sai Rushil', 'rook', 'chess')"
      ]
     },
     "execution_count": 31,
     "metadata": {},
     "output_type": "execute_result"
    }
   ],
   "source": [
    "t"
   ]
  },
  {
   "cell_type": "code",
   "execution_count": 32,
   "id": "753e52a8",
   "metadata": {},
   "outputs": [
    {
     "data": {
      "text/plain": [
       "'Sai Rushil'"
      ]
     },
     "execution_count": 32,
     "metadata": {},
     "output_type": "execute_result"
    }
   ],
   "source": [
    "t[0]"
   ]
  },
  {
   "cell_type": "code",
   "execution_count": 33,
   "id": "f2a7ec70",
   "metadata": {},
   "outputs": [
    {
     "ename": "TypeError",
     "evalue": "'tuple' object does not support item assignment",
     "output_type": "error",
     "traceback": [
      "\u001b[1;31m---------------------------------------------------------------------------\u001b[0m",
      "\u001b[1;31mTypeError\u001b[0m                                 Traceback (most recent call last)",
      "Cell \u001b[1;32mIn[33], line 1\u001b[0m\n\u001b[1;32m----> 1\u001b[0m t[\u001b[38;5;241m0\u001b[39m]\u001b[38;5;241m=\u001b[39m\u001b[38;5;124m\"\u001b[39m\u001b[38;5;124mraj\u001b[39m\u001b[38;5;124m\"\u001b[39m\n",
      "\u001b[1;31mTypeError\u001b[0m: 'tuple' object does not support item assignment"
     ]
    }
   ],
   "source": [
    "t[0]=\"raj\""
   ]
  },
  {
   "cell_type": "code",
   "execution_count": 34,
   "id": "d688758d",
   "metadata": {},
   "outputs": [],
   "source": [
    "t=[\"Sai Rushil\", \"rook\",\"chess\"]"
   ]
  },
  {
   "cell_type": "code",
   "execution_count": 35,
   "id": "b9b4503e",
   "metadata": {},
   "outputs": [
    {
     "data": {
      "text/plain": [
       "['Sai Rushil', 'rook', 'chess']"
      ]
     },
     "execution_count": 35,
     "metadata": {},
     "output_type": "execute_result"
    }
   ],
   "source": [
    "t"
   ]
  },
  {
   "cell_type": "code",
   "execution_count": 36,
   "id": "f8e83b76",
   "metadata": {},
   "outputs": [],
   "source": [
    "t[0]=\"raj\""
   ]
  },
  {
   "cell_type": "code",
   "execution_count": 37,
   "id": "27d35a5f",
   "metadata": {},
   "outputs": [
    {
     "data": {
      "text/plain": [
       "['raj', 'rook', 'chess']"
      ]
     },
     "execution_count": 37,
     "metadata": {},
     "output_type": "execute_result"
    }
   ],
   "source": [
    "t"
   ]
  },
  {
   "cell_type": "markdown",
   "id": "bb1a4801",
   "metadata": {},
   "source": [
    "# $fileing$"
   ]
  },
  {
   "cell_type": "code",
   "execution_count": 38,
   "id": "e692864c",
   "metadata": {},
   "outputs": [],
   "source": [
    "f=open(\"sairushil.txt\",\"w\")"
   ]
  },
  {
   "cell_type": "code",
   "execution_count": 39,
   "id": "d98dfb31",
   "metadata": {},
   "outputs": [
    {
     "data": {
      "text/plain": [
       "<_io.TextIOWrapper name='sairushil.txt' mode='w' encoding='cp1252'>"
      ]
     },
     "execution_count": 39,
     "metadata": {},
     "output_type": "execute_result"
    }
   ],
   "source": [
    "f"
   ]
  },
  {
   "cell_type": "code",
   "execution_count": null,
   "id": "922c3d31",
   "metadata": {},
   "outputs": [],
   "source": []
  }
 ],
 "metadata": {
  "kernelspec": {
   "display_name": "Python 3 (ipykernel)",
   "language": "python",
   "name": "python3"
  },
  "language_info": {
   "codemirror_mode": {
    "name": "ipython",
    "version": 3
   },
   "file_extension": ".py",
   "mimetype": "text/x-python",
   "name": "python",
   "nbconvert_exporter": "python",
   "pygments_lexer": "ipython3",
   "version": "3.10.9"
  }
 },
 "nbformat": 4,
 "nbformat_minor": 5
}
