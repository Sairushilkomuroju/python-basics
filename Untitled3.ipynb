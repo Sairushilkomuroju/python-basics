{
 "cells": [
  {
   "cell_type": "code",
   "execution_count": 1,
   "id": "6a269c3b",
   "metadata": {},
   "outputs": [],
   "source": [
    "string= \"Sairustil\" , \"car\" , \"holiday\" , \"bike\" , \"college\""
   ]
  },
  {
   "cell_type": "code",
   "execution_count": 2,
   "id": "882cfcf5",
   "metadata": {},
   "outputs": [
    {
     "data": {
      "text/plain": [
       "('Sairustil', 'car', 'holiday', 'bike', 'college')"
      ]
     },
     "execution_count": 2,
     "metadata": {},
     "output_type": "execute_result"
    }
   ],
   "source": [
    "string"
   ]
  },
  {
   "cell_type": "code",
   "execution_count": 3,
   "id": "9f1a660d",
   "metadata": {},
   "outputs": [
    {
     "name": "stdout",
     "output_type": "stream",
     "text": [
      "('Sairustil', 'car', 'holiday', 'bike', 'college')\n"
     ]
    }
   ],
   "source": [
    "print(string)"
   ]
  },
  {
   "cell_type": "code",
   "execution_count": 4,
   "id": "0ba72f68",
   "metadata": {},
   "outputs": [
    {
     "ename": "NameError",
     "evalue": "name 'sairushil' is not defined",
     "output_type": "error",
     "traceback": [
      "\u001b[1;31m---------------------------------------------------------------------------\u001b[0m",
      "\u001b[1;31mNameError\u001b[0m                                 Traceback (most recent call last)",
      "Cell \u001b[1;32mIn[4], line 1\u001b[0m\n\u001b[1;32m----> 1\u001b[0m \u001b[38;5;28mprint\u001b[39m(\u001b[43msairushil\u001b[49m)\n",
      "\u001b[1;31mNameError\u001b[0m: name 'sairushil' is not defined"
     ]
    }
   ],
   "source": [
    "print(sairushil)"
   ]
  },
  {
   "cell_type": "code",
   "execution_count": 5,
   "id": "6e6a542f",
   "metadata": {},
   "outputs": [
    {
     "name": "stdout",
     "output_type": "stream",
     "text": [
      "('Sairustil', 'car', 'holiday', 'bike', 'college')\n"
     ]
    }
   ],
   "source": [
    "print(string)"
   ]
  },
  {
   "cell_type": "code",
   "execution_count": 6,
   "id": "916bc243",
   "metadata": {},
   "outputs": [
    {
     "name": "stdout",
     "output_type": "stream",
     "text": [
      "sairushil\n"
     ]
    }
   ],
   "source": [
    "print(\"sairushil\")"
   ]
  },
  {
   "cell_type": "code",
   "execution_count": 7,
   "id": "89c4af97",
   "metadata": {},
   "outputs": [
    {
     "name": "stdout",
     "output_type": "stream",
     "text": [
      "1234\n"
     ]
    }
   ],
   "source": [
    "print(1234)"
   ]
  },
  {
   "cell_type": "code",
   "execution_count": 8,
   "id": "1bc42ea9",
   "metadata": {},
   "outputs": [
    {
     "name": "stdout",
     "output_type": "stream",
     "text": [
      "ikea\n"
     ]
    }
   ],
   "source": [
    "print(\"ikea\")"
   ]
  },
  {
   "cell_type": "code",
   "execution_count": 9,
   "id": "d4a6211b",
   "metadata": {},
   "outputs": [
    {
     "name": "stdout",
     "output_type": "stream",
     "text": [
      "hockey\n"
     ]
    }
   ],
   "source": [
    "print(\"hockey\")"
   ]
  },
  {
   "cell_type": "code",
   "execution_count": 10,
   "id": "0b32936d",
   "metadata": {},
   "outputs": [
    {
     "ename": "SyntaxError",
     "evalue": "Missing parentheses in call to 'print'. Did you mean print(...)? (1295940577.py, line 1)",
     "output_type": "error",
     "traceback": [
      "\u001b[1;36m  Cell \u001b[1;32mIn[10], line 1\u001b[1;36m\u001b[0m\n\u001b[1;33m    print{1,3,4,5,64,64,.97,}\u001b[0m\n\u001b[1;37m    ^\u001b[0m\n\u001b[1;31mSyntaxError\u001b[0m\u001b[1;31m:\u001b[0m Missing parentheses in call to 'print'. Did you mean print(...)?\n"
     ]
    }
   ],
   "source": [
    "print{1,3,4,5,64,64,.97,}"
   ]
  },
  {
   "cell_type": "code",
   "execution_count": 11,
   "id": "fede5883",
   "metadata": {},
   "outputs": [
    {
     "name": "stdout",
     "output_type": "stream",
     "text": [
      "hockey\n"
     ]
    }
   ],
   "source": [
    "print(\"hockey\")"
   ]
  },
  {
   "cell_type": "code",
   "execution_count": 12,
   "id": "60d9f8da",
   "metadata": {},
   "outputs": [
    {
     "ename": "SyntaxError",
     "evalue": "invalid syntax (3050190635.py, line 1)",
     "output_type": "error",
     "traceback": [
      "\u001b[1;36m  Cell \u001b[1;32mIn[12], line 1\u001b[1;36m\u001b[0m\n\u001b[1;33m    print(1,6,75,65,,867,76)\u001b[0m\n\u001b[1;37m                    ^\u001b[0m\n\u001b[1;31mSyntaxError\u001b[0m\u001b[1;31m:\u001b[0m invalid syntax\n"
     ]
    }
   ],
   "source": [
    "print(1,6,75,65,,867,76)"
   ]
  },
  {
   "cell_type": "code",
   "execution_count": 12,
   "id": "f677ebf9",
   "metadata": {},
   "outputs": [
    {
     "ename": "SyntaxError",
     "evalue": "invalid syntax (3050190635.py, line 1)",
     "output_type": "error",
     "traceback": [
      "\u001b[1;36m  Cell \u001b[1;32mIn[12], line 1\u001b[1;36m\u001b[0m\n\u001b[1;33m    print(1,6,75,65,,867,76)\u001b[0m\n\u001b[1;37m                    ^\u001b[0m\n\u001b[1;31mSyntaxError\u001b[0m\u001b[1;31m:\u001b[0m invalid syntax\n"
     ]
    }
   ],
   "source": [
    "print(1,6,75,65,,867,76)"
   ]
  },
  {
   "cell_type": "markdown",
   "id": "713b6d6a",
   "metadata": {},
   "source": [
    "# $SAIRUSHIL$"
   ]
  },
  {
   "cell_type": "markdown",
   "id": "b2375048",
   "metadata": {},
   "source": [
    "## indexing"
   ]
  },
  {
   "cell_type": "code",
   "execution_count": 13,
   "id": "2f2bf8f5",
   "metadata": {},
   "outputs": [],
   "source": [
    "s=[1,2,3,4,5,6]"
   ]
  },
  {
   "cell_type": "code",
   "execution_count": 14,
   "id": "451263ca",
   "metadata": {},
   "outputs": [
    {
     "name": "stdout",
     "output_type": "stream",
     "text": [
      "[1, 2, 3, 4, 5, 6]\n"
     ]
    }
   ],
   "source": [
    "print(s)"
   ]
  },
  {
   "cell_type": "code",
   "execution_count": 15,
   "id": "2331afd7",
   "metadata": {},
   "outputs": [
    {
     "data": {
      "text/plain": [
       "3"
      ]
     },
     "execution_count": 15,
     "metadata": {},
     "output_type": "execute_result"
    }
   ],
   "source": [
    "s[2]"
   ]
  },
  {
   "cell_type": "code",
   "execution_count": 17,
   "id": "01479835",
   "metadata": {},
   "outputs": [
    {
     "name": "stdout",
     "output_type": "stream",
     "text": [
      "[1, 2, 3, 4, 5, 6]\n"
     ]
    }
   ],
   "source": [
    "print(s)"
   ]
  },
  {
   "cell_type": "code",
   "execution_count": 20,
   "id": "fa1545b7",
   "metadata": {},
   "outputs": [
    {
     "data": {
      "text/plain": [
       "1"
      ]
     },
     "execution_count": 20,
     "metadata": {},
     "output_type": "execute_result"
    }
   ],
   "source": [
    "s[0]"
   ]
  },
  {
   "cell_type": "code",
   "execution_count": 21,
   "id": "b1e7ee66",
   "metadata": {},
   "outputs": [
    {
     "data": {
      "text/plain": [
       "'holiday'"
      ]
     },
     "execution_count": 21,
     "metadata": {},
     "output_type": "execute_result"
    }
   ],
   "source": [
    "string[2]"
   ]
  },
  {
   "cell_type": "code",
   "execution_count": 23,
   "id": "307d2650",
   "metadata": {},
   "outputs": [
    {
     "data": {
      "text/plain": [
       "'Sairustil'"
      ]
     },
     "execution_count": 23,
     "metadata": {},
     "output_type": "execute_result"
    }
   ],
   "source": [
    "string[0]"
   ]
  },
  {
   "cell_type": "code",
   "execution_count": 24,
   "id": "f656ba53",
   "metadata": {},
   "outputs": [],
   "source": [
    "greeting=\"Good Morning\", \"Good Afternoon\", \"Good Evening\", \"Good Night\""
   ]
  },
  {
   "cell_type": "code",
   "execution_count": 25,
   "id": "47ea891f",
   "metadata": {},
   "outputs": [
    {
     "data": {
      "text/plain": [
       "'Good Morning'"
      ]
     },
     "execution_count": 25,
     "metadata": {},
     "output_type": "execute_result"
    }
   ],
   "source": [
    "greeting[0]"
   ]
  },
  {
   "cell_type": "code",
   "execution_count": 26,
   "id": "52e93b18",
   "metadata": {},
   "outputs": [],
   "source": [
    "squares=0,1,4,9,16,25,36,49,68,81,100"
   ]
  },
  {
   "cell_type": "code",
   "execution_count": 27,
   "id": "5489a9ed",
   "metadata": {},
   "outputs": [
    {
     "data": {
      "text/plain": [
       "(0, 1, 4, 9, 16, 25, 36, 49, 68, 81, 100)"
      ]
     },
     "execution_count": 27,
     "metadata": {},
     "output_type": "execute_result"
    }
   ],
   "source": [
    "squares"
   ]
  },
  {
   "cell_type": "code",
   "execution_count": 28,
   "id": "4bb0c194",
   "metadata": {},
   "outputs": [
    {
     "data": {
      "text/plain": [
       "4"
      ]
     },
     "execution_count": 28,
     "metadata": {},
     "output_type": "execute_result"
    }
   ],
   "source": [
    "squares[2]"
   ]
  },
  {
   "cell_type": "code",
   "execution_count": 30,
   "id": "0e954391",
   "metadata": {},
   "outputs": [
    {
     "data": {
      "text/plain": [
       "81"
      ]
     },
     "execution_count": 30,
     "metadata": {},
     "output_type": "execute_result"
    }
   ],
   "source": [
    "squares[9]"
   ]
  },
  {
   "cell_type": "code",
   "execution_count": 31,
   "id": "79cb97b9",
   "metadata": {},
   "outputs": [],
   "source": [
    "s1=\"Saikumar\" , \"Anil\",\"Akhil\" , \"Bhavana\", \"Sharanya\",\"Vasuki\", \"Devisree\", \"Pankaj\",\"Dakshith\", \"Satya Sai Charan\", \"Kavya\", \"Nithish\",\"Ropa\", \"Snehith\""
   ]
  },
  {
   "cell_type": "code",
   "execution_count": 32,
   "id": "26076455",
   "metadata": {},
   "outputs": [
    {
     "data": {
      "text/plain": [
       "'Vasuki'"
      ]
     },
     "execution_count": 32,
     "metadata": {},
     "output_type": "execute_result"
    }
   ],
   "source": [
    "s1[5]"
   ]
  },
  {
   "cell_type": "code",
   "execution_count": 33,
   "id": "c1f9100d",
   "metadata": {},
   "outputs": [
    {
     "data": {
      "text/plain": [
       "'Pankaj'"
      ]
     },
     "execution_count": 33,
     "metadata": {},
     "output_type": "execute_result"
    }
   ],
   "source": [
    "s1[7]"
   ]
  },
  {
   "cell_type": "code",
   "execution_count": 34,
   "id": "9b0aa514",
   "metadata": {},
   "outputs": [
    {
     "data": {
      "text/plain": [
       "'Devisree'"
      ]
     },
     "execution_count": 34,
     "metadata": {},
     "output_type": "execute_result"
    }
   ],
   "source": [
    "s1[6]"
   ]
  },
  {
   "cell_type": "code",
   "execution_count": 35,
   "id": "f434f5e2",
   "metadata": {},
   "outputs": [],
   "source": [
    "SR= (\"I am Sai Rushil from Hyderabad and stay in New Nallakunta\")"
   ]
  },
  {
   "cell_type": "code",
   "execution_count": 36,
   "id": "eee2bb6c",
   "metadata": {},
   "outputs": [
    {
     "name": "stdout",
     "output_type": "stream",
     "text": [
      "I am Sai Rushil from Hyderabad and stay in New Nallakunta\n"
     ]
    }
   ],
   "source": [
    "print(SR)"
   ]
  },
  {
   "cell_type": "code",
   "execution_count": 37,
   "id": "4ca12927",
   "metadata": {},
   "outputs": [
    {
     "data": {
      "text/plain": [
       "'I'"
      ]
     },
     "execution_count": 37,
     "metadata": {},
     "output_type": "execute_result"
    }
   ],
   "source": [
    "SR[0]"
   ]
  },
  {
   "cell_type": "code",
   "execution_count": 38,
   "id": "c08854ce",
   "metadata": {},
   "outputs": [
    {
     "data": {
      "text/plain": [
       "'S'"
      ]
     },
     "execution_count": 38,
     "metadata": {},
     "output_type": "execute_result"
    }
   ],
   "source": [
    "SR[5]"
   ]
  },
  {
   "cell_type": "code",
   "execution_count": 39,
   "id": "a60086eb",
   "metadata": {},
   "outputs": [
    {
     "data": {
      "text/plain": [
       "' '"
      ]
     },
     "execution_count": 39,
     "metadata": {},
     "output_type": "execute_result"
    }
   ],
   "source": [
    "SR[4]"
   ]
  },
  {
   "cell_type": "code",
   "execution_count": 40,
   "id": "9c83894e",
   "metadata": {},
   "outputs": [
    {
     "data": {
      "text/plain": [
       "'m'"
      ]
     },
     "execution_count": 40,
     "metadata": {},
     "output_type": "execute_result"
    }
   ],
   "source": [
    "SR[3]"
   ]
  },
  {
   "cell_type": "code",
   "execution_count": 43,
   "id": "a1e08fdf",
   "metadata": {},
   "outputs": [
    {
     "data": {
      "text/plain": [
       "'S'"
      ]
     },
     "execution_count": 43,
     "metadata": {},
     "output_type": "execute_result"
    }
   ],
   "source": [
    "SR[5]"
   ]
  },
  {
   "cell_type": "code",
   "execution_count": 44,
   "id": "46f8899b",
   "metadata": {},
   "outputs": [
    {
     "data": {
      "text/plain": [
       "'a'"
      ]
     },
     "execution_count": 44,
     "metadata": {},
     "output_type": "execute_result"
    }
   ],
   "source": [
    "SR[-1]"
   ]
  },
  {
   "cell_type": "code",
   "execution_count": 45,
   "id": "b3e494ef",
   "metadata": {},
   "outputs": [
    {
     "data": {
      "text/plain": [
       "'t'"
      ]
     },
     "execution_count": 45,
     "metadata": {},
     "output_type": "execute_result"
    }
   ],
   "source": [
    "SR[-2]"
   ]
  },
  {
   "cell_type": "code",
   "execution_count": 50,
   "id": "a469abdb",
   "metadata": {},
   "outputs": [
    {
     "data": {
      "text/plain": [
       "'Sai Rushil'"
      ]
     },
     "execution_count": 50,
     "metadata": {},
     "output_type": "execute_result"
    }
   ],
   "source": [
    "SR[5:15:1]"
   ]
  },
  {
   "cell_type": "code",
   "execution_count": 55,
   "id": "ef92f422",
   "metadata": {},
   "outputs": [
    {
     "data": {
      "text/plain": [
       "'I am Sai Rushil'"
      ]
     },
     "execution_count": 55,
     "metadata": {},
     "output_type": "execute_result"
    }
   ],
   "source": [
    "SR[0:15:1]"
   ]
  },
  {
   "cell_type": "code",
   "execution_count": 53,
   "id": "bd341477",
   "metadata": {},
   "outputs": [
    {
     "data": {
      "text/plain": [
       "'from Hyderabad'"
      ]
     },
     "execution_count": 53,
     "metadata": {},
     "output_type": "execute_result"
    }
   ],
   "source": [
    "SR[16:30]"
   ]
  },
  {
   "cell_type": "code",
   "execution_count": null,
   "id": "6c3a2a7f",
   "metadata": {},
   "outputs": [],
   "source": []
  }
 ],
 "metadata": {
  "kernelspec": {
   "display_name": "Python 3 (ipykernel)",
   "language": "python",
   "name": "python3"
  },
  "language_info": {
   "codemirror_mode": {
    "name": "ipython",
    "version": 3
   },
   "file_extension": ".py",
   "mimetype": "text/x-python",
   "name": "python",
   "nbconvert_exporter": "python",
   "pygments_lexer": "ipython3",
   "version": "3.10.9"
  }
 },
 "nbformat": 4,
 "nbformat_minor": 5
}
