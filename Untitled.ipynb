{
 "cells": [
  {
   "cell_type": "code",
   "execution_count": null,
   "id": "9fceccae",
   "metadata": {},
   "outputs": [],
   "source": [
    "strings=\"Sai Rushil\""
   ]
  },
  {
   "cell_type": "code",
   "execution_count": 1,
   "id": "a8432a02",
   "metadata": {},
   "outputs": [],
   "source": [
    "name=\"Sai Rushil\""
   ]
  },
  {
   "cell_type": "code",
   "execution_count": 2,
   "id": "fee45dd8",
   "metadata": {},
   "outputs": [
    {
     "data": {
      "text/plain": [
       "'Sai Rushil'"
      ]
     },
     "execution_count": 2,
     "metadata": {},
     "output_type": "execute_result"
    }
   ],
   "source": [
    "name"
   ]
  },
  {
   "cell_type": "code",
   "execution_count": 3,
   "id": "d02a30a7",
   "metadata": {},
   "outputs": [],
   "source": [
    "country=\"India\""
   ]
  },
  {
   "cell_type": "code",
   "execution_count": 4,
   "id": "d5161f24",
   "metadata": {},
   "outputs": [
    {
     "data": {
      "text/plain": [
       "'India'"
      ]
     },
     "execution_count": 4,
     "metadata": {},
     "output_type": "execute_result"
    }
   ],
   "source": [
    "country"
   ]
  },
  {
   "cell_type": "code",
   "execution_count": 5,
   "id": "2713a4c0",
   "metadata": {},
   "outputs": [],
   "source": [
    "college=\"KMICS\""
   ]
  },
  {
   "cell_type": "code",
   "execution_count": 6,
   "id": "9fa38abe",
   "metadata": {},
   "outputs": [
    {
     "data": {
      "text/plain": [
       "'KMICS'"
      ]
     },
     "execution_count": 6,
     "metadata": {},
     "output_type": "execute_result"
    }
   ],
   "source": [
    "college"
   ]
  },
  {
   "cell_type": "code",
   "execution_count": 7,
   "id": "cdceacb9",
   "metadata": {},
   "outputs": [],
   "source": [
    "classes=\"14th\""
   ]
  },
  {
   "cell_type": "code",
   "execution_count": 8,
   "id": "09fce545",
   "metadata": {},
   "outputs": [
    {
     "data": {
      "text/plain": [
       "'14th'"
      ]
     },
     "execution_count": 8,
     "metadata": {},
     "output_type": "execute_result"
    }
   ],
   "source": [
    "classes"
   ]
  },
  {
   "cell_type": "code",
   "execution_count": 9,
   "id": "c12b2160",
   "metadata": {},
   "outputs": [],
   "source": [
    "BMW=\"x1\""
   ]
  },
  {
   "cell_type": "code",
   "execution_count": 10,
   "id": "cb90543f",
   "metadata": {},
   "outputs": [
    {
     "data": {
      "text/plain": [
       "'x1'"
      ]
     },
     "execution_count": 10,
     "metadata": {},
     "output_type": "execute_result"
    }
   ],
   "source": [
    "BMW"
   ]
  },
  {
   "cell_type": "code",
   "execution_count": 11,
   "id": "5e02b2a9",
   "metadata": {},
   "outputs": [],
   "source": [
    "phone=\"i phone 14\""
   ]
  },
  {
   "cell_type": "code",
   "execution_count": 12,
   "id": "997d834b",
   "metadata": {},
   "outputs": [
    {
     "data": {
      "text/plain": [
       "'i phone 14'"
      ]
     },
     "execution_count": 12,
     "metadata": {},
     "output_type": "execute_result"
    }
   ],
   "source": [
    "phone"
   ]
  },
  {
   "cell_type": "code",
   "execution_count": 13,
   "id": "669eb68d",
   "metadata": {},
   "outputs": [],
   "source": [
    "drink=\"Red wine\""
   ]
  },
  {
   "cell_type": "code",
   "execution_count": 14,
   "id": "1cfe7877",
   "metadata": {},
   "outputs": [
    {
     "data": {
      "text/plain": [
       "'Red wine'"
      ]
     },
     "execution_count": 14,
     "metadata": {},
     "output_type": "execute_result"
    }
   ],
   "source": [
    "drink"
   ]
  },
  {
   "cell_type": "code",
   "execution_count": 15,
   "id": "b25d3517",
   "metadata": {},
   "outputs": [],
   "source": [
    "sport=\"swim\""
   ]
  },
  {
   "cell_type": "code",
   "execution_count": 16,
   "id": "46a471c3",
   "metadata": {},
   "outputs": [
    {
     "data": {
      "text/plain": [
       "'swim'"
      ]
     },
     "execution_count": 16,
     "metadata": {},
     "output_type": "execute_result"
    }
   ],
   "source": [
    "sport"
   ]
  },
  {
   "cell_type": "code",
   "execution_count": 17,
   "id": "b26a1a9a",
   "metadata": {},
   "outputs": [],
   "source": [
    "biscuit=\"oreo\""
   ]
  },
  {
   "cell_type": "code",
   "execution_count": 25,
   "id": "9b978ba1",
   "metadata": {},
   "outputs": [
    {
     "ename": "SyntaxError",
     "evalue": "invalid syntax (2564954916.py, line 1)",
     "output_type": "error",
     "traceback": [
      "\u001b[1;36m  Cell \u001b[1;32mIn[25], line 1\u001b[1;36m\u001b[0m\n\u001b[1;33m    atyty  biscuit\u001b[0m\n\u001b[1;37m           ^\u001b[0m\n\u001b[1;31mSyntaxError\u001b[0m\u001b[1;31m:\u001b[0m invalid syntax\n"
     ]
    }
   ],
   "source": [
    "atyty  biscuit"
   ]
  },
  {
   "cell_type": "code",
   "execution_count": 26,
   "id": "b4c52df3",
   "metadata": {},
   "outputs": [],
   "source": [
    "friend= \"Devisree\""
   ]
  },
  {
   "cell_type": "code",
   "execution_count": 27,
   "id": "16ac9647",
   "metadata": {},
   "outputs": [
    {
     "data": {
      "text/plain": [
       "'Devisree'"
      ]
     },
     "execution_count": 27,
     "metadata": {},
     "output_type": "execute_result"
    }
   ],
   "source": [
    "friend"
   ]
  },
  {
   "cell_type": "code",
   "execution_count": 21,
   "id": "e82cbea2",
   "metadata": {},
   "outputs": [],
   "source": [
    "tv=\"lg+\""
   ]
  },
  {
   "cell_type": "code",
   "execution_count": 22,
   "id": "f2b79809",
   "metadata": {},
   "outputs": [
    {
     "data": {
      "text/plain": [
       "'lg+'"
      ]
     },
     "execution_count": 22,
     "metadata": {},
     "output_type": "execute_result"
    }
   ],
   "source": [
    "tv"
   ]
  },
  {
   "cell_type": "code",
   "execution_count": 23,
   "id": "ab7fef82",
   "metadata": {},
   "outputs": [],
   "source": [
    "game= \"cod\""
   ]
  },
  {
   "cell_type": "code",
   "execution_count": 24,
   "id": "2c0d06c6",
   "metadata": {},
   "outputs": [
    {
     "data": {
      "text/plain": [
       "'cod'"
      ]
     },
     "execution_count": 24,
     "metadata": {},
     "output_type": "execute_result"
    }
   ],
   "source": [
    "game"
   ]
  },
  {
   "cell_type": "code",
   "execution_count": 31,
   "id": "cd2156dc",
   "metadata": {},
   "outputs": [
    {
     "ename": "NameError",
     "evalue": "name 'number' is not defined",
     "output_type": "error",
     "traceback": [
      "\u001b[1;31m---------------------------------------------------------------------------\u001b[0m",
      "\u001b[1;31mNameError\u001b[0m                                 Traceback (most recent call last)",
      "Cell \u001b[1;32mIn[31], line 1\u001b[0m\n\u001b[1;32m----> 1\u001b[0m \u001b[38;5;28mtype\u001b[39m(\u001b[43mnumber\u001b[49m)\n",
      "\u001b[1;31mNameError\u001b[0m: name 'number' is not defined"
     ]
    }
   ],
   "source": [
    "type(number)"
   ]
  },
  {
   "cell_type": "code",
   "execution_count": 32,
   "id": "7d1eec64",
   "metadata": {},
   "outputs": [],
   "source": [
    "number=\"2023\""
   ]
  },
  {
   "cell_type": "code",
   "execution_count": 33,
   "id": "cfbff467",
   "metadata": {},
   "outputs": [
    {
     "data": {
      "text/plain": [
       "'2023'"
      ]
     },
     "execution_count": 33,
     "metadata": {},
     "output_type": "execute_result"
    }
   ],
   "source": [
    "number"
   ]
  },
  {
   "cell_type": "code",
   "execution_count": 34,
   "id": "53417101",
   "metadata": {},
   "outputs": [
    {
     "data": {
      "text/plain": [
       "str"
      ]
     },
     "execution_count": 34,
     "metadata": {},
     "output_type": "execute_result"
    }
   ],
   "source": [
    "type(number)"
   ]
  },
  {
   "cell_type": "code",
   "execution_count": 35,
   "id": "b0d2f5b8",
   "metadata": {},
   "outputs": [],
   "source": [
    "type=\"2024\""
   ]
  },
  {
   "cell_type": "code",
   "execution_count": 36,
   "id": "eda8a9ff",
   "metadata": {},
   "outputs": [
    {
     "data": {
      "text/plain": [
       "'2024'"
      ]
     },
     "execution_count": 36,
     "metadata": {},
     "output_type": "execute_result"
    }
   ],
   "source": [
    "type"
   ]
  },
  {
   "cell_type": "code",
   "execution_count": 37,
   "id": "931766e0",
   "metadata": {},
   "outputs": [
    {
     "ename": "SyntaxError",
     "evalue": "invalid syntax (418995666.py, line 1)",
     "output_type": "error",
     "traceback": [
      "\u001b[1;36m  Cell \u001b[1;32mIn[37], line 1\u001b[1;36m\u001b[0m\n\u001b[1;33m    no.=\"2023\"\u001b[0m\n\u001b[1;37m       ^\u001b[0m\n\u001b[1;31mSyntaxError\u001b[0m\u001b[1;31m:\u001b[0m invalid syntax\n"
     ]
    }
   ],
   "source": [
    "no.=\"2023\""
   ]
  },
  {
   "cell_type": "code",
   "execution_count": 40,
   "id": "45258f3e",
   "metadata": {},
   "outputs": [],
   "source": [
    "type= 40"
   ]
  },
  {
   "cell_type": "code",
   "execution_count": 41,
   "id": "92186c19",
   "metadata": {},
   "outputs": [
    {
     "data": {
      "text/plain": [
       "40"
      ]
     },
     "execution_count": 41,
     "metadata": {},
     "output_type": "execute_result"
    }
   ],
   "source": [
    "type"
   ]
  },
  {
   "cell_type": "code",
   "execution_count": 42,
   "id": "5f5d64c0",
   "metadata": {},
   "outputs": [
    {
     "ename": "TypeError",
     "evalue": "'int' object is not callable",
     "output_type": "error",
     "traceback": [
      "\u001b[1;31m---------------------------------------------------------------------------\u001b[0m",
      "\u001b[1;31mTypeError\u001b[0m                                 Traceback (most recent call last)",
      "Cell \u001b[1;32mIn[42], line 1\u001b[0m\n\u001b[1;32m----> 1\u001b[0m \u001b[38;5;28;43mtype\u001b[39;49m\u001b[43m(\u001b[49m\u001b[38;5;28;43mtype\u001b[39;49m\u001b[43m)\u001b[49m\n",
      "\u001b[1;31mTypeError\u001b[0m: 'int' object is not callable"
     ]
    }
   ],
   "source": [
    "type(type)"
   ]
  },
  {
   "cell_type": "code",
   "execution_count": 1,
   "id": "6a463f26",
   "metadata": {},
   "outputs": [],
   "source": [
    "number1=2023"
   ]
  },
  {
   "cell_type": "code",
   "execution_count": 44,
   "id": "00d15190",
   "metadata": {},
   "outputs": [
    {
     "data": {
      "text/plain": [
       "2023"
      ]
     },
     "execution_count": 44,
     "metadata": {},
     "output_type": "execute_result"
    }
   ],
   "source": [
    "number1"
   ]
  },
  {
   "cell_type": "code",
   "execution_count": 2,
   "id": "a9d89881",
   "metadata": {},
   "outputs": [
    {
     "data": {
      "text/plain": [
       "int"
      ]
     },
     "execution_count": 2,
     "metadata": {},
     "output_type": "execute_result"
    }
   ],
   "source": [
    "type(number1)"
   ]
  },
  {
   "cell_type": "code",
   "execution_count": 3,
   "id": "507e9865",
   "metadata": {},
   "outputs": [],
   "source": [
    "number2 = 2024"
   ]
  },
  {
   "cell_type": "code",
   "execution_count": 4,
   "id": "8e015fdd",
   "metadata": {},
   "outputs": [
    {
     "ename": "NameError",
     "evalue": "name 'numbet2' is not defined",
     "output_type": "error",
     "traceback": [
      "\u001b[1;31m---------------------------------------------------------------------------\u001b[0m",
      "\u001b[1;31mNameError\u001b[0m                                 Traceback (most recent call last)",
      "Cell \u001b[1;32mIn[4], line 1\u001b[0m\n\u001b[1;32m----> 1\u001b[0m \u001b[38;5;28mtype\u001b[39m(\u001b[43mnumbet2\u001b[49m)\n",
      "\u001b[1;31mNameError\u001b[0m: name 'numbet2' is not defined"
     ]
    }
   ],
   "source": [
    "type(numbet2)"
   ]
  },
  {
   "cell_type": "code",
   "execution_count": 5,
   "id": "edd2d140",
   "metadata": {},
   "outputs": [
    {
     "data": {
      "text/plain": [
       "int"
      ]
     },
     "execution_count": 5,
     "metadata": {},
     "output_type": "execute_result"
    }
   ],
   "source": [
    "type(number2)"
   ]
  },
  {
   "cell_type": "markdown",
   "id": "609d59ce",
   "metadata": {},
   "source": [
    "## rushil"
   ]
  },
  {
   "cell_type": "markdown",
   "id": "b3c49bc1",
   "metadata": {},
   "source": [
    "# $rushil$"
   ]
  },
  {
   "cell_type": "markdown",
   "id": "2e0e4af7",
   "metadata": {},
   "source": [
    "#$Rushil"
   ]
  },
  {
   "cell_type": "markdown",
   "id": "6cefeec9",
   "metadata": {},
   "source": [
    "# $Sai Rushil$"
   ]
  },
  {
   "cell_type": "code",
   "execution_count": 6,
   "id": "8619c344",
   "metadata": {},
   "outputs": [],
   "source": [
    "s=(1,2,3,4,5,6,7)"
   ]
  },
  {
   "cell_type": "code",
   "execution_count": 7,
   "id": "a90ce064",
   "metadata": {},
   "outputs": [
    {
     "data": {
      "text/plain": [
       "(1, 2, 3, 4, 5, 6, 7)"
      ]
     },
     "execution_count": 7,
     "metadata": {},
     "output_type": "execute_result"
    }
   ],
   "source": [
    "s"
   ]
  },
  {
   "cell_type": "markdown",
   "id": "96373c18",
   "metadata": {},
   "source": [
    "## sai rushil"
   ]
  },
  {
   "cell_type": "code",
   "execution_count": null,
   "id": "0db9bca2",
   "metadata": {},
   "outputs": [],
   "source": [
    "s1=\"Sai rushil\",coding"
   ]
  }
 ],
 "metadata": {
  "kernelspec": {
   "display_name": "Python 3 (ipykernel)",
   "language": "python",
   "name": "python3"
  },
  "language_info": {
   "codemirror_mode": {
    "name": "ipython",
    "version": 3
   },
   "file_extension": ".py",
   "mimetype": "text/x-python",
   "name": "python",
   "nbconvert_exporter": "python",
   "pygments_lexer": "ipython3",
   "version": "3.10.9"
  }
 },
 "nbformat": 4,
 "nbformat_minor": 5
}
