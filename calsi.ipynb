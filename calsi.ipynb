{
 "cells": [
  {
   "cell_type": "code",
   "execution_count": 1,
   "id": "a3a9e9de",
   "metadata": {},
   "outputs": [
    {
     "name": "stdout",
     "output_type": "stream",
     "text": [
      "enter a value10\n",
      "enter a value12\n",
      "enter operation,('+','-','*','/','//','%')*\n",
      "multiplication is performed 120\n"
     ]
    }
   ],
   "source": [
    "x=int(input(\"enter a value\"))\n",
    "y=int(input(\"enter a value\"))\n",
    "operations=input(\"enter operation,('+','-','*','/','//','%')\")\n",
    "if operations ==\"+\":\n",
    "    print(\"addition is performed\",x+y)\n",
    "elif operations==\"-\":\n",
    "    print(\"substraction is preformed\",x-y)\n",
    "elif operations ==\"*\":\n",
    "    print(\"multiplication is performed\",x*y)\n",
    "elif operations ==\"/\":\n",
    "    print(\"division is performed\",x/y)\n",
    "elif operations ==\"//\":\n",
    "    print(\"division operation without decial\",x//y)\n",
    "elif operations ==\"%\":\n",
    "    print(\"modular operation with out decimal\",x%y)\n",
    "else:\n",
    "    print(\"please enter the value\")"
   ]
  },
  {
   "cell_type": "code",
   "execution_count": null,
   "id": "ba5ea2f5",
   "metadata": {},
   "outputs": [],
   "source": []
  }
 ],
 "metadata": {
  "kernelspec": {
   "display_name": "Python 3 (ipykernel)",
   "language": "python",
   "name": "python3"
  },
  "language_info": {
   "codemirror_mode": {
    "name": "ipython",
    "version": 3
   },
   "file_extension": ".py",
   "mimetype": "text/x-python",
   "name": "python",
   "nbconvert_exporter": "python",
   "pygments_lexer": "ipython3",
   "version": "3.10.9"
  }
 },
 "nbformat": 4,
 "nbformat_minor": 5
}
