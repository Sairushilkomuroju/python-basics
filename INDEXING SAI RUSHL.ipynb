{
 "cells": [
  {
   "cell_type": "code",
   "execution_count": 1,
   "id": "136912ba",
   "metadata": {},
   "outputs": [],
   "source": [
    "string= \"Sairustil\" , \"car\" , \"holiday\" , \"bike\" , \"college\""
   ]
  },
  {
   "cell_type": "code",
   "execution_count": 2,
   "id": "058ce1f6",
   "metadata": {},
   "outputs": [
    {
     "data": {
      "text/plain": [
       "('Sairustil', 'car', 'holiday', 'bike', 'college')"
      ]
     },
     "execution_count": 2,
     "metadata": {},
     "output_type": "execute_result"
    }
   ],
   "source": [
    "string"
   ]
  },
  {
   "cell_type": "code",
   "execution_count": 3,
   "id": "b66a6e68",
   "metadata": {},
   "outputs": [
    {
     "name": "stdout",
     "output_type": "stream",
     "text": [
      "('Sairustil', 'car', 'holiday', 'bike', 'college')\n"
     ]
    }
   ],
   "source": [
    "print(string)"
   ]
  },
  {
   "cell_type": "code",
   "execution_count": 4,
   "id": "d41f6bd4",
   "metadata": {},
   "outputs": [
    {
     "ename": "NameError",
     "evalue": "name 'sairushil' is not defined",
     "output_type": "error",
     "traceback": [
      "\u001b[1;31m---------------------------------------------------------------------------\u001b[0m",
      "\u001b[1;31mNameError\u001b[0m                                 Traceback (most recent call last)",
      "Cell \u001b[1;32mIn[4], line 1\u001b[0m\n\u001b[1;32m----> 1\u001b[0m \u001b[38;5;28mprint\u001b[39m(\u001b[43msairushil\u001b[49m)\n",
      "\u001b[1;31mNameError\u001b[0m: name 'sairushil' is not defined"
     ]
    }
   ],
   "source": [
    "print(sairushil)"
   ]
  },
  {
   "cell_type": "code",
   "execution_count": 5,
   "id": "8f6e5c52",
   "metadata": {},
   "outputs": [
    {
     "name": "stdout",
     "output_type": "stream",
     "text": [
      "('Sairustil', 'car', 'holiday', 'bike', 'college')\n"
     ]
    }
   ],
   "source": [
    "print(string)"
   ]
  },
  {
   "cell_type": "code",
   "execution_count": 6,
   "id": "52ecd777",
   "metadata": {},
   "outputs": [
    {
     "name": "stdout",
     "output_type": "stream",
     "text": [
      "sairushil\n"
     ]
    }
   ],
   "source": [
    "print(\"sairushil\")"
   ]
  },
  {
   "cell_type": "code",
   "execution_count": 7,
   "id": "7f40771e",
   "metadata": {},
   "outputs": [
    {
     "name": "stdout",
     "output_type": "stream",
     "text": [
      "1234\n"
     ]
    }
   ],
   "source": [
    "print(1234)"
   ]
  },
  {
   "cell_type": "code",
   "execution_count": 8,
   "id": "855013fc",
   "metadata": {},
   "outputs": [
    {
     "name": "stdout",
     "output_type": "stream",
     "text": [
      "ikea\n"
     ]
    }
   ],
   "source": [
    "print(\"ikea\")"
   ]
  },
  {
   "cell_type": "code",
   "execution_count": 9,
   "id": "5a465da7",
   "metadata": {},
   "outputs": [
    {
     "name": "stdout",
     "output_type": "stream",
     "text": [
      "hockey\n"
     ]
    }
   ],
   "source": [
    "print(\"hockey\")"
   ]
  },
  {
   "cell_type": "code",
   "execution_count": 10,
   "id": "ba5b788f",
   "metadata": {},
   "outputs": [
    {
     "ename": "SyntaxError",
     "evalue": "Missing parentheses in call to 'print'. Did you mean print(...)? (1295940577.py, line 1)",
     "output_type": "error",
     "traceback": [
      "\u001b[1;36m  Cell \u001b[1;32mIn[10], line 1\u001b[1;36m\u001b[0m\n\u001b[1;33m    print{1,3,4,5,64,64,.97,}\u001b[0m\n\u001b[1;37m    ^\u001b[0m\n\u001b[1;31mSyntaxError\u001b[0m\u001b[1;31m:\u001b[0m Missing parentheses in call to 'print'. Did you mean print(...)?\n"
     ]
    }
   ],
   "source": [
    "print{1,3,4,5,64,64,.97,}"
   ]
  },
  {
   "cell_type": "code",
   "execution_count": 11,
   "id": "6d5c7c1d",
   "metadata": {},
   "outputs": [
    {
     "name": "stdout",
     "output_type": "stream",
     "text": [
      "hockey\n"
     ]
    }
   ],
   "source": [
    "print(\"hockey\")"
   ]
  },
  {
   "cell_type": "code",
   "execution_count": 1,
   "id": "db7f971a",
   "metadata": {},
   "outputs": [
    {
     "name": "stdout",
     "output_type": "stream",
     "text": [
      "1234\n"
     ]
    }
   ],
   "source": [
    "print(1234)"
   ]
  },
  {
   "cell_type": "code",
   "execution_count": 12,
   "id": "88e15f9c",
   "metadata": {},
   "outputs": [
    {
     "ename": "SyntaxError",
     "evalue": "invalid syntax (3050190635.py, line 1)",
     "output_type": "error",
     "traceback": [
      "\u001b[1;36m  Cell \u001b[1;32mIn[12], line 1\u001b[1;36m\u001b[0m\n\u001b[1;33m    print(1,6,75,65,,867,76)\u001b[0m\n\u001b[1;37m                    ^\u001b[0m\n\u001b[1;31mSyntaxError\u001b[0m\u001b[1;31m:\u001b[0m invalid syntax\n"
     ]
    }
   ],
   "source": [
    "print(1,6,75,65,,867,76)"
   ]
  },
  {
   "cell_type": "markdown",
   "id": "5a597f4b",
   "metadata": {},
   "source": [
    "# $SAIRUSHIL$"
   ]
  },
  {
   "cell_type": "markdown",
   "id": "c91d87c5",
   "metadata": {},
   "source": [
    "## indexing"
   ]
  },
  {
   "cell_type": "code",
   "execution_count": 13,
   "id": "690b04ff",
   "metadata": {},
   "outputs": [],
   "source": [
    "s=[1,2,3,4,5,6]"
   ]
  },
  {
   "cell_type": "code",
   "execution_count": 14,
   "id": "8a6a7b40",
   "metadata": {},
   "outputs": [
    {
     "name": "stdout",
     "output_type": "stream",
     "text": [
      "[1, 2, 3, 4, 5, 6]\n"
     ]
    }
   ],
   "source": [
    "print(s)"
   ]
  },
  {
   "cell_type": "code",
   "execution_count": 15,
   "id": "a105d0f4",
   "metadata": {},
   "outputs": [
    {
     "data": {
      "text/plain": [
       "3"
      ]
     },
     "execution_count": 15,
     "metadata": {},
     "output_type": "execute_result"
    }
   ],
   "source": [
    "s[2]"
   ]
  },
  {
   "cell_type": "code",
   "execution_count": 17,
   "id": "2ebcb85c",
   "metadata": {},
   "outputs": [
    {
     "name": "stdout",
     "output_type": "stream",
     "text": [
      "[1, 2, 3, 4, 5, 6]\n"
     ]
    }
   ],
   "source": [
    "print(s)"
   ]
  },
  {
   "cell_type": "code",
   "execution_count": 20,
   "id": "ce7baff6",
   "metadata": {},
   "outputs": [
    {
     "data": {
      "text/plain": [
       "1"
      ]
     },
     "execution_count": 20,
     "metadata": {},
     "output_type": "execute_result"
    }
   ],
   "source": [
    "s[0]"
   ]
  },
  {
   "cell_type": "code",
   "execution_count": 21,
   "id": "3e03fe56",
   "metadata": {},
   "outputs": [
    {
     "data": {
      "text/plain": [
       "'holiday'"
      ]
     },
     "execution_count": 21,
     "metadata": {},
     "output_type": "execute_result"
    }
   ],
   "source": [
    "string[2]"
   ]
  },
  {
   "cell_type": "code",
   "execution_count": 23,
   "id": "66d74b8d",
   "metadata": {},
   "outputs": [
    {
     "data": {
      "text/plain": [
       "'Sairustil'"
      ]
     },
     "execution_count": 23,
     "metadata": {},
     "output_type": "execute_result"
    }
   ],
   "source": [
    "string[0]"
   ]
  },
  {
   "cell_type": "code",
   "execution_count": 24,
   "id": "0d1f71f1",
   "metadata": {},
   "outputs": [],
   "source": [
    "greeting=\"Good Morning\", \"Good Afternoon\", \"Good Evening\", \"Good Night\""
   ]
  },
  {
   "cell_type": "code",
   "execution_count": 25,
   "id": "c2d44a12",
   "metadata": {},
   "outputs": [
    {
     "data": {
      "text/plain": [
       "'Good Morning'"
      ]
     },
     "execution_count": 25,
     "metadata": {},
     "output_type": "execute_result"
    }
   ],
   "source": [
    "greeting[0]"
   ]
  },
  {
   "cell_type": "code",
   "execution_count": 26,
   "id": "80f40fc2",
   "metadata": {},
   "outputs": [],
   "source": [
    "squares=0,1,4,9,16,25,36,49,68,81,100"
   ]
  },
  {
   "cell_type": "code",
   "execution_count": 27,
   "id": "76dfc384",
   "metadata": {},
   "outputs": [
    {
     "data": {
      "text/plain": [
       "(0, 1, 4, 9, 16, 25, 36, 49, 68, 81, 100)"
      ]
     },
     "execution_count": 27,
     "metadata": {},
     "output_type": "execute_result"
    }
   ],
   "source": [
    "squares"
   ]
  },
  {
   "cell_type": "code",
   "execution_count": 28,
   "id": "32b648ed",
   "metadata": {},
   "outputs": [
    {
     "data": {
      "text/plain": [
       "4"
      ]
     },
     "execution_count": 28,
     "metadata": {},
     "output_type": "execute_result"
    }
   ],
   "source": [
    "squares[2]"
   ]
  },
  {
   "cell_type": "code",
   "execution_count": 30,
   "id": "26b3016e",
   "metadata": {},
   "outputs": [
    {
     "data": {
      "text/plain": [
       "81"
      ]
     },
     "execution_count": 30,
     "metadata": {},
     "output_type": "execute_result"
    }
   ],
   "source": [
    "squares[9]"
   ]
  },
  {
   "cell_type": "code",
   "execution_count": 31,
   "id": "0c886151",
   "metadata": {},
   "outputs": [],
   "source": [
    "s1=\"Saikumar\" , \"Anil\",\"Akhil\" , \"Bhavana\", \"Sharanya\",\"Vasuki\", \"Devisree\", \"Pankaj\",\"Dakshith\", \"Satya Sai Charan\", \"Kavya\", \"Nithish\",\"Ropa\", \"Snehith\""
   ]
  },
  {
   "cell_type": "code",
   "execution_count": 32,
   "id": "5cc245f8",
   "metadata": {},
   "outputs": [
    {
     "data": {
      "text/plain": [
       "'Vasuki'"
      ]
     },
     "execution_count": 32,
     "metadata": {},
     "output_type": "execute_result"
    }
   ],
   "source": [
    "s1[5]"
   ]
  },
  {
   "cell_type": "code",
   "execution_count": 33,
   "id": "5e395b50",
   "metadata": {},
   "outputs": [
    {
     "data": {
      "text/plain": [
       "'Pankaj'"
      ]
     },
     "execution_count": 33,
     "metadata": {},
     "output_type": "execute_result"
    }
   ],
   "source": [
    "s1[7]"
   ]
  },
  {
   "cell_type": "code",
   "execution_count": 34,
   "id": "2187f970",
   "metadata": {},
   "outputs": [
    {
     "data": {
      "text/plain": [
       "'Devisree'"
      ]
     },
     "execution_count": 34,
     "metadata": {},
     "output_type": "execute_result"
    }
   ],
   "source": [
    "s1[6]"
   ]
  },
  {
   "cell_type": "code",
   "execution_count": 35,
   "id": "0142100e",
   "metadata": {},
   "outputs": [],
   "source": [
    "SR= (\"I am Sai Rushil from Hyderabad and stay in New Nallakunta\")"
   ]
  },
  {
   "cell_type": "code",
   "execution_count": 36,
   "id": "0b640e3a",
   "metadata": {},
   "outputs": [
    {
     "name": "stdout",
     "output_type": "stream",
     "text": [
      "I am Sai Rushil from Hyderabad and stay in New Nallakunta\n"
     ]
    }
   ],
   "source": [
    "print(SR)"
   ]
  },
  {
   "cell_type": "code",
   "execution_count": 37,
   "id": "61a4376e",
   "metadata": {},
   "outputs": [
    {
     "data": {
      "text/plain": [
       "'I'"
      ]
     },
     "execution_count": 37,
     "metadata": {},
     "output_type": "execute_result"
    }
   ],
   "source": [
    "SR[0]"
   ]
  },
  {
   "cell_type": "code",
   "execution_count": 38,
   "id": "4b0793b5",
   "metadata": {},
   "outputs": [
    {
     "data": {
      "text/plain": [
       "'S'"
      ]
     },
     "execution_count": 38,
     "metadata": {},
     "output_type": "execute_result"
    }
   ],
   "source": [
    "SR[5]"
   ]
  },
  {
   "cell_type": "code",
   "execution_count": 39,
   "id": "45261fc5",
   "metadata": {},
   "outputs": [
    {
     "data": {
      "text/plain": [
       "' '"
      ]
     },
     "execution_count": 39,
     "metadata": {},
     "output_type": "execute_result"
    }
   ],
   "source": [
    "SR[4]"
   ]
  },
  {
   "cell_type": "code",
   "execution_count": 40,
   "id": "31781c5f",
   "metadata": {},
   "outputs": [
    {
     "data": {
      "text/plain": [
       "'m'"
      ]
     },
     "execution_count": 40,
     "metadata": {},
     "output_type": "execute_result"
    }
   ],
   "source": [
    "SR[3]"
   ]
  },
  {
   "cell_type": "code",
   "execution_count": 43,
   "id": "fc39e18d",
   "metadata": {},
   "outputs": [
    {
     "data": {
      "text/plain": [
       "'S'"
      ]
     },
     "execution_count": 43,
     "metadata": {},
     "output_type": "execute_result"
    }
   ],
   "source": [
    "SR[5]"
   ]
  },
  {
   "cell_type": "code",
   "execution_count": 44,
   "id": "d8297ad1",
   "metadata": {},
   "outputs": [
    {
     "data": {
      "text/plain": [
       "'a'"
      ]
     },
     "execution_count": 44,
     "metadata": {},
     "output_type": "execute_result"
    }
   ],
   "source": [
    "SR[-1]"
   ]
  },
  {
   "cell_type": "code",
   "execution_count": 45,
   "id": "8ecfc88d",
   "metadata": {},
   "outputs": [
    {
     "data": {
      "text/plain": [
       "'t'"
      ]
     },
     "execution_count": 45,
     "metadata": {},
     "output_type": "execute_result"
    }
   ],
   "source": [
    "SR[-2]"
   ]
  },
  {
   "cell_type": "code",
   "execution_count": 50,
   "id": "505cce74",
   "metadata": {},
   "outputs": [
    {
     "data": {
      "text/plain": [
       "'Sai Rushil'"
      ]
     },
     "execution_count": 50,
     "metadata": {},
     "output_type": "execute_result"
    }
   ],
   "source": [
    "SR[5:15:1]"
   ]
  },
  {
   "cell_type": "code",
   "execution_count": 55,
   "id": "bdc3859a",
   "metadata": {},
   "outputs": [
    {
     "data": {
      "text/plain": [
       "'I am Sai Rushil'"
      ]
     },
     "execution_count": 55,
     "metadata": {},
     "output_type": "execute_result"
    }
   ],
   "source": [
    "SR[0:15:1]"
   ]
  },
  {
   "cell_type": "code",
   "execution_count": 53,
   "id": "48211e52",
   "metadata": {},
   "outputs": [
    {
     "data": {
      "text/plain": [
       "'from Hyderabad'"
      ]
     },
     "execution_count": 53,
     "metadata": {},
     "output_type": "execute_result"
    }
   ],
   "source": [
    "SR[16:30]"
   ]
  },
  {
   "cell_type": "code",
   "execution_count": 5,
   "id": "6526f7a1",
   "metadata": {},
   "outputs": [],
   "source": [
    "squares=1,4,9,16,25,36,49,68,81,100"
   ]
  },
  {
   "cell_type": "code",
   "execution_count": 3,
   "id": "a6fc4970",
   "metadata": {},
   "outputs": [
    {
     "data": {
      "text/plain": [
       "0"
      ]
     },
     "execution_count": 3,
     "metadata": {},
     "output_type": "execute_result"
    }
   ],
   "source": [
    "squares[0]"
   ]
  },
  {
   "cell_type": "code",
   "execution_count": 6,
   "id": "d8b26f12",
   "metadata": {},
   "outputs": [
    {
     "data": {
      "text/plain": [
       "1"
      ]
     },
     "execution_count": 6,
     "metadata": {},
     "output_type": "execute_result"
    }
   ],
   "source": [
    "squares[0]"
   ]
  },
  {
   "cell_type": "code",
   "execution_count": 7,
   "id": "904e8b98",
   "metadata": {},
   "outputs": [
    {
     "data": {
      "text/plain": [
       "100"
      ]
     },
     "execution_count": 7,
     "metadata": {},
     "output_type": "execute_result"
    }
   ],
   "source": [
    "squares[-1]"
   ]
  },
  {
   "cell_type": "code",
   "execution_count": 19,
   "id": "90c6bb00",
   "metadata": {},
   "outputs": [
    {
     "data": {
      "text/plain": [
       "'I am Sai Rushil'"
      ]
     },
     "execution_count": 19,
     "metadata": {},
     "output_type": "execute_result"
    }
   ],
   "source": [
    "SR[0:15:1]"
   ]
  },
  {
   "cell_type": "code",
   "execution_count": 10,
   "id": "7b0e5bd3",
   "metadata": {},
   "outputs": [],
   "source": [
    "R= (\"I am Sai Rushil from Hyderabad and stay in New Nallakunta\")"
   ]
  },
  {
   "cell_type": "code",
   "execution_count": 20,
   "id": "7469085f",
   "metadata": {},
   "outputs": [
    {
     "ename": "SyntaxError",
     "evalue": "invalid syntax (1324775764.py, line 1)",
     "output_type": "error",
     "traceback": [
      "\u001b[1;36m  Cell \u001b[1;32mIn[20], line 1\u001b[1;36m\u001b[0m\n\u001b[1;33m    R=[0:15]\u001b[0m\n\u001b[1;37m        ^\u001b[0m\n\u001b[1;31mSyntaxError\u001b[0m\u001b[1;31m:\u001b[0m invalid syntax\n"
     ]
    }
   ],
   "source": [
    "R=[0:15]"
   ]
  },
  {
   "cell_type": "code",
   "execution_count": 14,
   "id": "87d6c8ab",
   "metadata": {},
   "outputs": [
    {
     "data": {
      "text/plain": [
       "'Ia a uhl'"
      ]
     },
     "execution_count": 14,
     "metadata": {},
     "output_type": "execute_result"
    }
   ],
   "source": [
    "R[0:15:2]"
   ]
  },
  {
   "cell_type": "code",
   "execution_count": 15,
   "id": "e1372d1b",
   "metadata": {},
   "outputs": [],
   "source": [
    "SR= (\"I am Sai Rushil from Hyderabad and stay in New Nallakunta\")"
   ]
  },
  {
   "cell_type": "code",
   "execution_count": 17,
   "id": "0f3cefa2",
   "metadata": {},
   "outputs": [],
   "source": [
    "s1=\"Saikumar\" , \"Anil\",\"Akhil\" , \"Bhavana\", \"Sharanya\",\"Vasuki\", \"Devisree\", \"Pankaj\",\"Dakshith\", \"Satya Sai Charan\", \"Kavya\", \"Nithish\",\"Ropa\", \"Snehith\""
   ]
  },
  {
   "cell_type": "code",
   "execution_count": 18,
   "id": "d37c01a4",
   "metadata": {},
   "outputs": [
    {
     "data": {
      "text/plain": [
       "'Devisree'"
      ]
     },
     "execution_count": 18,
     "metadata": {},
     "output_type": "execute_result"
    }
   ],
   "source": [
    "s1[6]"
   ]
  },
  {
   "cell_type": "code",
   "execution_count": null,
   "id": "224c0c80",
   "metadata": {},
   "outputs": [],
   "source": []
  }
 ],
 "metadata": {
  "kernelspec": {
   "display_name": "Python 3 (ipykernel)",
   "language": "python",
   "name": "python3"
  },
  "language_info": {
   "codemirror_mode": {
    "name": "ipython",
    "version": 3
   },
   "file_extension": ".py",
   "mimetype": "text/x-python",
   "name": "python",
   "nbconvert_exporter": "python",
   "pygments_lexer": "ipython3",
   "version": "3.10.9"
  }
 },
 "nbformat": 4,
 "nbformat_minor": 5
}
