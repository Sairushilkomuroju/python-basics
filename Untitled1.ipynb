{
 "cells": [
  {
   "cell_type": "code",
   "execution_count": 1,
   "id": "6b4f4051",
   "metadata": {},
   "outputs": [
    {
     "ename": "NameError",
     "evalue": "name 'coding' is not defined",
     "output_type": "error",
     "traceback": [
      "\u001b[1;31m---------------------------------------------------------------------------\u001b[0m",
      "\u001b[1;31mNameError\u001b[0m                                 Traceback (most recent call last)",
      "Cell \u001b[1;32mIn[1], line 1\u001b[0m\n\u001b[1;32m----> 1\u001b[0m s1\u001b[38;5;241m=\u001b[39m\u001b[38;5;124m\"\u001b[39m\u001b[38;5;124mSai Rushil\u001b[39m\u001b[38;5;124m\"\u001b[39m, \u001b[43mcoding\u001b[49m\n",
      "\u001b[1;31mNameError\u001b[0m: name 'coding' is not defined"
     ]
    }
   ],
   "source": [
    "s1=\"Sai Rushil\", coding"
   ]
  },
  {
   "cell_type": "code",
   "execution_count": 2,
   "id": "fd22470f",
   "metadata": {},
   "outputs": [
    {
     "ename": "SyntaxError",
     "evalue": "invalid character '💀' (U+1F480) (3053721581.py, line 1)",
     "output_type": "error",
     "traceback": [
      "\u001b[1;36m  Cell \u001b[1;32mIn[2], line 1\u001b[1;36m\u001b[0m\n\u001b[1;33m    s1=\"Sai Rushil\", \"coding\",\"\"💀💀😊👌\")\u001b[0m\n\u001b[1;37m                                ^\u001b[0m\n\u001b[1;31mSyntaxError\u001b[0m\u001b[1;31m:\u001b[0m invalid character '💀' (U+1F480)\n"
     ]
    }
   ],
   "source": [
    "s1=\"Sai Rushil\", \"coding\",\"\"💀💀😊👌\")"
   ]
  },
  {
   "cell_type": "code",
   "execution_count": 3,
   "id": "0055afca",
   "metadata": {},
   "outputs": [
    {
     "ename": "SyntaxError",
     "evalue": "invalid character '💀' (U+1F480) (3089592105.py, line 1)",
     "output_type": "error",
     "traceback": [
      "\u001b[1;36m  Cell \u001b[1;32mIn[3], line 1\u001b[1;36m\u001b[0m\n\u001b[1;33m    s1=\"Sai Rushil\", \"coding\",\"\"💀\"\"💀\"\"😊\"\"👌\")\u001b[0m\n\u001b[1;37m                                ^\u001b[0m\n\u001b[1;31mSyntaxError\u001b[0m\u001b[1;31m:\u001b[0m invalid character '💀' (U+1F480)\n"
     ]
    }
   ],
   "source": [
    "s1=\"Sai Rushil\", \"coding\",\"\"💀\"\"💀\"\"😊\"\"👌\")"
   ]
  },
  {
   "cell_type": "code",
   "execution_count": 4,
   "id": "256fc99b",
   "metadata": {},
   "outputs": [
    {
     "ename": "SyntaxError",
     "evalue": "unmatched ')' (1529866422.py, line 1)",
     "output_type": "error",
     "traceback": [
      "\u001b[1;36m  Cell \u001b[1;32mIn[4], line 1\u001b[1;36m\u001b[0m\n\u001b[1;33m    s1=\"Sai Rushil\", \"coding\",\"😊\")\u001b[0m\n\u001b[1;37m                                 ^\u001b[0m\n\u001b[1;31mSyntaxError\u001b[0m\u001b[1;31m:\u001b[0m unmatched ')'\n"
     ]
    }
   ],
   "source": [
    "s1=\"Sai Rushil\", \"coding\",\"😊\")"
   ]
  },
  {
   "cell_type": "code",
   "execution_count": 5,
   "id": "fb3f10f7",
   "metadata": {},
   "outputs": [],
   "source": [
    "s1=(\"Sai Rushil\", \"coding\",\"😊\")"
   ]
  },
  {
   "cell_type": "code",
   "execution_count": 6,
   "id": "a4b545c1",
   "metadata": {},
   "outputs": [
    {
     "data": {
      "text/plain": [
       "('Sai Rushil', 'coding', '😊')"
      ]
     },
     "execution_count": 6,
     "metadata": {},
     "output_type": "execute_result"
    }
   ],
   "source": [
    "s1"
   ]
  },
  {
   "cell_type": "code",
   "execution_count": 7,
   "id": "195d9ebe",
   "metadata": {},
   "outputs": [],
   "source": [
    "s=(\"pankaj\",\"💀\")"
   ]
  },
  {
   "cell_type": "code",
   "execution_count": 8,
   "id": "5a9b9210",
   "metadata": {},
   "outputs": [
    {
     "data": {
      "text/plain": [
       "('pankaj', '💀')"
      ]
     },
     "execution_count": 8,
     "metadata": {},
     "output_type": "execute_result"
    }
   ],
   "source": [
    "s"
   ]
  },
  {
   "cell_type": "code",
   "execution_count": 9,
   "id": "05787b04",
   "metadata": {},
   "outputs": [
    {
     "data": {
      "text/plain": [
       "('pankaj', '💀')"
      ]
     },
     "execution_count": 9,
     "metadata": {},
     "output_type": "execute_result"
    }
   ],
   "source": [
    "s"
   ]
  },
  {
   "cell_type": "code",
   "execution_count": 10,
   "id": "372d317d",
   "metadata": {},
   "outputs": [
    {
     "ename": "SyntaxError",
     "evalue": "invalid character '💀' (U+1F480) (4077370708.py, line 1)",
     "output_type": "error",
     "traceback": [
      "\u001b[1;36m  Cell \u001b[1;32mIn[10], line 1\u001b[1;36m\u001b[0m\n\u001b[1;33m    car-[\"BMW\",\"AUDI\",\"Suzuki\",\"Jagwar\",\"\"💀\"\"]\u001b[0m\n\u001b[1;37m                                          ^\u001b[0m\n\u001b[1;31mSyntaxError\u001b[0m\u001b[1;31m:\u001b[0m invalid character '💀' (U+1F480)\n"
     ]
    }
   ],
   "source": [
    "car-[\"BMW\",\"AUDI\",\"Suzuki\",\"Jagwar\",\"\"💀\"\"]"
   ]
  },
  {
   "cell_type": "code",
   "execution_count": 11,
   "id": "64f9905a",
   "metadata": {},
   "outputs": [
    {
     "ename": "SyntaxError",
     "evalue": "invalid character '💀' (U+1F480) (2455688192.py, line 1)",
     "output_type": "error",
     "traceback": [
      "\u001b[1;36m  Cell \u001b[1;32mIn[11], line 1\u001b[1;36m\u001b[0m\n\u001b[1;33m    car=[\"BMW\",\"AUDI\",\"Suzuki\",\"Jagwar\",\"\"💀\"]\u001b[0m\n\u001b[1;37m                                          ^\u001b[0m\n\u001b[1;31mSyntaxError\u001b[0m\u001b[1;31m:\u001b[0m invalid character '💀' (U+1F480)\n"
     ]
    }
   ],
   "source": [
    "car=[\"BMW\",\"AUDI\",\"Suzuki\",\"Jagwar\",\"\"💀\"]"
   ]
  },
  {
   "cell_type": "code",
   "execution_count": 12,
   "id": "e0a4b31c",
   "metadata": {},
   "outputs": [
    {
     "ename": "NameError",
     "evalue": "name 'car' is not defined",
     "output_type": "error",
     "traceback": [
      "\u001b[1;31m---------------------------------------------------------------------------\u001b[0m",
      "\u001b[1;31mNameError\u001b[0m                                 Traceback (most recent call last)",
      "Cell \u001b[1;32mIn[12], line 1\u001b[0m\n\u001b[1;32m----> 1\u001b[0m \u001b[43mcar\u001b[49m\u001b[38;5;241m-\u001b[39m[\u001b[38;5;124m\"\u001b[39m\u001b[38;5;124mBMW\u001b[39m\u001b[38;5;124m\"\u001b[39m,\u001b[38;5;124m\"\u001b[39m\u001b[38;5;124mAUDI\u001b[39m\u001b[38;5;124m\"\u001b[39m,\u001b[38;5;124m\"\u001b[39m\u001b[38;5;124mSuzuki\u001b[39m\u001b[38;5;124m\"\u001b[39m,\u001b[38;5;124m\"\u001b[39m\u001b[38;5;124mJagwar\u001b[39m\u001b[38;5;124m\"\u001b[39m,]\n",
      "\u001b[1;31mNameError\u001b[0m: name 'car' is not defined"
     ]
    }
   ],
   "source": [
    "car-[\"BMW\",\"AUDI\",\"Suzuki\",\"Jagwar\",]"
   ]
  },
  {
   "cell_type": "code",
   "execution_count": 13,
   "id": "6c1e075b",
   "metadata": {},
   "outputs": [],
   "source": [
    "car=[\"BMW\",\"AUDI\",\"Suzuki\",\"Jagwar\",]"
   ]
  },
  {
   "cell_type": "code",
   "execution_count": 14,
   "id": "f8377be9",
   "metadata": {},
   "outputs": [
    {
     "data": {
      "text/plain": [
       "['BMW', 'AUDI', 'Suzuki', 'Jagwar']"
      ]
     },
     "execution_count": 14,
     "metadata": {},
     "output_type": "execute_result"
    }
   ],
   "source": [
    "car"
   ]
  },
  {
   "cell_type": "code",
   "execution_count": 15,
   "id": "80abe297",
   "metadata": {},
   "outputs": [
    {
     "ename": "SyntaxError",
     "evalue": "invalid character '💀' (U+1F480) (1768503362.py, line 1)",
     "output_type": "error",
     "traceback": [
      "\u001b[1;36m  Cell \u001b[1;32mIn[15], line 1\u001b[1;36m\u001b[0m\n\u001b[1;33m    car1=[\"BMW\",\"AUDI\",\"Suzuki\",\"Jagwar\",💀]\u001b[0m\n\u001b[1;37m                                         ^\u001b[0m\n\u001b[1;31mSyntaxError\u001b[0m\u001b[1;31m:\u001b[0m invalid character '💀' (U+1F480)\n"
     ]
    }
   ],
   "source": [
    "car1=[\"BMW\",\"AUDI\",\"Suzuki\",\"Jagwar\",💀]"
   ]
  },
  {
   "cell_type": "code",
   "execution_count": 16,
   "id": "b65a1da3",
   "metadata": {},
   "outputs": [],
   "source": [
    "car1=[\"BMW\",\"AUDI\",\"Suzuki\",\"Jagwar\",\"💀\"]"
   ]
  },
  {
   "cell_type": "code",
   "execution_count": 17,
   "id": "229ca7bc",
   "metadata": {},
   "outputs": [
    {
     "data": {
      "text/plain": [
       "['BMW', 'AUDI', 'Suzuki', 'Jagwar', '💀']"
      ]
     },
     "execution_count": 17,
     "metadata": {},
     "output_type": "execute_result"
    }
   ],
   "source": [
    "car1"
   ]
  },
  {
   "cell_type": "code",
   "execution_count": 18,
   "id": "971735dd",
   "metadata": {},
   "outputs": [],
   "source": [
    "car1=[\"Sai rushil\",\"KMICS\",\"14th\",\"💀\"]"
   ]
  },
  {
   "cell_type": "code",
   "execution_count": 19,
   "id": "ad1e34da",
   "metadata": {},
   "outputs": [
    {
     "data": {
      "text/plain": [
       "['Sai rushil', 'KMICS', '14th', '💀']"
      ]
     },
     "execution_count": 19,
     "metadata": {},
     "output_type": "execute_result"
    }
   ],
   "source": [
    "car1"
   ]
  },
  {
   "cell_type": "code",
   "execution_count": null,
   "id": "31241544",
   "metadata": {},
   "outputs": [],
   "source": []
  }
 ],
 "metadata": {
  "kernelspec": {
   "display_name": "Python 3 (ipykernel)",
   "language": "python",
   "name": "python3"
  },
  "language_info": {
   "codemirror_mode": {
    "name": "ipython",
    "version": 3
   },
   "file_extension": ".py",
   "mimetype": "text/x-python",
   "name": "python",
   "nbconvert_exporter": "python",
   "pygments_lexer": "ipython3",
   "version": "3.10.9"
  }
 },
 "nbformat": 4,
 "nbformat_minor": 5
}
