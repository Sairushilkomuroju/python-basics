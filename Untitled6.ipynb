{
 "cells": [
  {
   "cell_type": "markdown",
   "id": "3ae1fc4a",
   "metadata": {},
   "source": [
    "# $ condition$"
   ]
  },
  {
   "cell_type": "markdown",
   "id": "3eee53b3",
   "metadata": {},
   "source": [
    "# $ conditions has 3 modules $"
   ]
  },
  {
   "cell_type": "markdown",
   "id": "14908f3f",
   "metadata": {},
   "source": [
    "# $ conditions"
   ]
  },
  {
   "cell_type": "markdown",
   "id": "e6fea49f",
   "metadata": {},
   "source": [
    "## syntax\n",
    "if condition :\n",
    "    statement\n",
    "elif condition1 :\n",
    "    statement1\n",
    "elif condition2:\n",
    "    statement2\n",
    "elif condition3:\n",
    "    statement3\n",
    "elif:\n",
    "    end the statement"
   ]
  },
  {
   "cell_type": "code",
   "execution_count": 2,
   "id": "360bb4b5",
   "metadata": {},
   "outputs": [
    {
     "name": "stdout",
     "output_type": "stream",
     "text": [
      "20\n"
     ]
    }
   ],
   "source": [
    "a=10\n",
    "b=20\n",
    "c=a+b\n",
    "if a>b:\n",
    "  print(c)\n",
    "elif a<b:\n",
    "  print(b)\n",
    "elif a!=b:\n",
    "   print(c)\n",
    "else:\n",
    "    print(\"enter the value:\")"
   ]
  },
  {
   "cell_type": "code",
   "execution_count": 3,
   "id": "22d2a805",
   "metadata": {},
   "outputs": [
    {
     "name": "stdout",
     "output_type": "stream",
     "text": [
      "b is grt than a\n"
     ]
    }
   ],
   "source": [
    "a=10\n",
    "b=20\n",
    "if a>b:\n",
    "     print(\"a is grt than b\")\n",
    "elif b>a:\n",
    "    print(\"b is grt than a\")\n",
    "    "
   ]
  },
  {
   "cell_type": "code",
   "execution_count": 5,
   "id": "69197c0c",
   "metadata": {},
   "outputs": [
    {
     "name": "stdout",
     "output_type": "stream",
     "text": [
      " 1010\n"
     ]
    }
   ],
   "source": [
    "number=10\n",
    "a=f'{number: b}'\n",
    "print(a) "
   ]
  },
  {
   "cell_type": "code",
   "execution_count": 6,
   "id": "65a8a8d8",
   "metadata": {},
   "outputs": [
    {
     "name": "stdout",
     "output_type": "stream",
     "text": [
      "11110\n"
     ]
    }
   ],
   "source": [
    "number2=30\n",
    "b=f'{number2:0b}'\n",
    "print(b)"
   ]
  },
  {
   "cell_type": "code",
   "execution_count": 9,
   "id": "f7536e85",
   "metadata": {},
   "outputs": [
    {
     "name": "stdout",
     "output_type": "stream",
     "text": [
      "0000011110\n"
     ]
    }
   ],
   "source": [
    "number3 =30\n",
    "c= f'{number2:010b}'\n",
    "print(c)"
   ]
  },
  {
   "cell_type": "markdown",
   "id": "41dcfea8",
   "metadata": {},
   "source": [
    "# and or operation"
   ]
  },
  {
   "cell_type": "code",
   "execution_count": 12,
   "id": "623337c2",
   "metadata": {},
   "outputs": [
    {
     "name": "stdout",
     "output_type": "stream",
     "text": [
      "10\n"
     ]
    }
   ],
   "source": [
    "a=10\n",
    "b=20\n",
    "if a==10 or b==20:\n",
    "     print(a)"
   ]
  },
  {
   "cell_type": "code",
   "execution_count": 20,
   "id": "7556ae95",
   "metadata": {},
   "outputs": [
    {
     "name": "stdout",
     "output_type": "stream",
     "text": [
      "this is and condition\n"
     ]
    }
   ],
   "source": [
    "if a==20 and a==20:\n",
    "   print(a)\n",
    "else:\n",
    "    print(\"this is and condition\")"
   ]
  },
  {
   "cell_type": "code",
   "execution_count": null,
   "id": "03f4424b",
   "metadata": {},
   "outputs": [],
   "source": [
    "a=(\"enter a value\")\n",
    "b=(\"enter b value\")\n",
    "operations=(\"enter a operation\",(\"+\",\"-\",\"*\",\"\"))"
   ]
  },
  {
   "cell_type": "code",
   "execution_count": null,
   "id": "7f66bef7",
   "metadata": {},
   "outputs": [],
   "source": []
  },
  {
   "cell_type": "code",
   "execution_count": null,
   "id": "833df8c1",
   "metadata": {},
   "outputs": [],
   "source": []
  },
  {
   "cell_type": "code",
   "execution_count": null,
   "id": "aae5f9e4",
   "metadata": {},
   "outputs": [],
   "source": []
  },
  {
   "cell_type": "code",
   "execution_count": null,
   "id": "ddaa3ef6",
   "metadata": {},
   "outputs": [],
   "source": []
  }
 ],
 "metadata": {
  "kernelspec": {
   "display_name": "Python 3 (ipykernel)",
   "language": "python",
   "name": "python3"
  },
  "language_info": {
   "codemirror_mode": {
    "name": "ipython",
    "version": 3
   },
   "file_extension": ".py",
   "mimetype": "text/x-python",
   "name": "python",
   "nbconvert_exporter": "python",
   "pygments_lexer": "ipython3",
   "version": "3.10.9"
  }
 },
 "nbformat": 4,
 "nbformat_minor": 5
}
